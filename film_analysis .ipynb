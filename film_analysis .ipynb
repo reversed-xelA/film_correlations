{
 "cells": [
  {
   "cell_type": "code",
   "execution_count": 133,
   "id": "ac41c77e",
   "metadata": {},
   "outputs": [],
   "source": [
    "# Import libraries\n",
    "\n",
    "import numpy as np\n",
    "import pandas as pd\n",
    "import seaborn as sns\n",
    "import matplotlib\n",
    "import matplotlib.pyplot as plt\n",
    "plt.style.use('ggplot')\n",
    "from matplotlib.pyplot import figure\n",
    "\n",
    "matplotlib.rcParams['figure.figsize'] = (12,8) # Sets all future figure sizes"
   ]
  },
  {
   "cell_type": "code",
   "execution_count": 134,
   "id": "60c88752",
   "metadata": {},
   "outputs": [],
   "source": [
    "# Read in the data\n",
    "df = pd.read_csv('movies.csv')"
   ]
  },
  {
   "cell_type": "code",
   "execution_count": 135,
   "id": "6e4eec75",
   "metadata": {},
   "outputs": [
    {
     "data": {
      "text/html": [
       "<div>\n",
       "<style scoped>\n",
       "    .dataframe tbody tr th:only-of-type {\n",
       "        vertical-align: middle;\n",
       "    }\n",
       "\n",
       "    .dataframe tbody tr th {\n",
       "        vertical-align: top;\n",
       "    }\n",
       "\n",
       "    .dataframe thead th {\n",
       "        text-align: right;\n",
       "    }\n",
       "</style>\n",
       "<table border=\"1\" class=\"dataframe\">\n",
       "  <thead>\n",
       "    <tr style=\"text-align: right;\">\n",
       "      <th></th>\n",
       "      <th>name</th>\n",
       "      <th>rating</th>\n",
       "      <th>genre</th>\n",
       "      <th>year</th>\n",
       "      <th>released</th>\n",
       "      <th>score</th>\n",
       "      <th>votes</th>\n",
       "      <th>director</th>\n",
       "      <th>writer</th>\n",
       "      <th>star</th>\n",
       "      <th>country</th>\n",
       "      <th>budget</th>\n",
       "      <th>gross</th>\n",
       "      <th>company</th>\n",
       "      <th>runtime</th>\n",
       "    </tr>\n",
       "  </thead>\n",
       "  <tbody>\n",
       "    <tr>\n",
       "      <th>0</th>\n",
       "      <td>The Shining</td>\n",
       "      <td>R</td>\n",
       "      <td>Drama</td>\n",
       "      <td>1980</td>\n",
       "      <td>June 13, 1980 (United States)</td>\n",
       "      <td>8.4</td>\n",
       "      <td>927000.0</td>\n",
       "      <td>Stanley Kubrick</td>\n",
       "      <td>Stephen King</td>\n",
       "      <td>Jack Nicholson</td>\n",
       "      <td>United Kingdom</td>\n",
       "      <td>19000000.0</td>\n",
       "      <td>46998772.0</td>\n",
       "      <td>Warner Bros.</td>\n",
       "      <td>146.0</td>\n",
       "    </tr>\n",
       "    <tr>\n",
       "      <th>1</th>\n",
       "      <td>The Blue Lagoon</td>\n",
       "      <td>R</td>\n",
       "      <td>Adventure</td>\n",
       "      <td>1980</td>\n",
       "      <td>July 2, 1980 (United States)</td>\n",
       "      <td>5.8</td>\n",
       "      <td>65000.0</td>\n",
       "      <td>Randal Kleiser</td>\n",
       "      <td>Henry De Vere Stacpoole</td>\n",
       "      <td>Brooke Shields</td>\n",
       "      <td>United States</td>\n",
       "      <td>4500000.0</td>\n",
       "      <td>58853106.0</td>\n",
       "      <td>Columbia Pictures</td>\n",
       "      <td>104.0</td>\n",
       "    </tr>\n",
       "    <tr>\n",
       "      <th>2</th>\n",
       "      <td>Star Wars: Episode V - The Empire Strikes Back</td>\n",
       "      <td>PG</td>\n",
       "      <td>Action</td>\n",
       "      <td>1980</td>\n",
       "      <td>June 20, 1980 (United States)</td>\n",
       "      <td>8.7</td>\n",
       "      <td>1200000.0</td>\n",
       "      <td>Irvin Kershner</td>\n",
       "      <td>Leigh Brackett</td>\n",
       "      <td>Mark Hamill</td>\n",
       "      <td>United States</td>\n",
       "      <td>18000000.0</td>\n",
       "      <td>538375067.0</td>\n",
       "      <td>Lucasfilm</td>\n",
       "      <td>124.0</td>\n",
       "    </tr>\n",
       "    <tr>\n",
       "      <th>3</th>\n",
       "      <td>Airplane!</td>\n",
       "      <td>PG</td>\n",
       "      <td>Comedy</td>\n",
       "      <td>1980</td>\n",
       "      <td>July 2, 1980 (United States)</td>\n",
       "      <td>7.7</td>\n",
       "      <td>221000.0</td>\n",
       "      <td>Jim Abrahams</td>\n",
       "      <td>Jim Abrahams</td>\n",
       "      <td>Robert Hays</td>\n",
       "      <td>United States</td>\n",
       "      <td>3500000.0</td>\n",
       "      <td>83453539.0</td>\n",
       "      <td>Paramount Pictures</td>\n",
       "      <td>88.0</td>\n",
       "    </tr>\n",
       "    <tr>\n",
       "      <th>4</th>\n",
       "      <td>Caddyshack</td>\n",
       "      <td>R</td>\n",
       "      <td>Comedy</td>\n",
       "      <td>1980</td>\n",
       "      <td>July 25, 1980 (United States)</td>\n",
       "      <td>7.3</td>\n",
       "      <td>108000.0</td>\n",
       "      <td>Harold Ramis</td>\n",
       "      <td>Brian Doyle-Murray</td>\n",
       "      <td>Chevy Chase</td>\n",
       "      <td>United States</td>\n",
       "      <td>6000000.0</td>\n",
       "      <td>39846344.0</td>\n",
       "      <td>Orion Pictures</td>\n",
       "      <td>98.0</td>\n",
       "    </tr>\n",
       "  </tbody>\n",
       "</table>\n",
       "</div>"
      ],
      "text/plain": [
       "                                             name rating      genre  year  \\\n",
       "0                                     The Shining      R      Drama  1980   \n",
       "1                                 The Blue Lagoon      R  Adventure  1980   \n",
       "2  Star Wars: Episode V - The Empire Strikes Back     PG     Action  1980   \n",
       "3                                       Airplane!     PG     Comedy  1980   \n",
       "4                                      Caddyshack      R     Comedy  1980   \n",
       "\n",
       "                        released  score      votes         director  \\\n",
       "0  June 13, 1980 (United States)    8.4   927000.0  Stanley Kubrick   \n",
       "1   July 2, 1980 (United States)    5.8    65000.0   Randal Kleiser   \n",
       "2  June 20, 1980 (United States)    8.7  1200000.0   Irvin Kershner   \n",
       "3   July 2, 1980 (United States)    7.7   221000.0     Jim Abrahams   \n",
       "4  July 25, 1980 (United States)    7.3   108000.0     Harold Ramis   \n",
       "\n",
       "                    writer            star         country      budget  \\\n",
       "0             Stephen King  Jack Nicholson  United Kingdom  19000000.0   \n",
       "1  Henry De Vere Stacpoole  Brooke Shields   United States   4500000.0   \n",
       "2           Leigh Brackett     Mark Hamill   United States  18000000.0   \n",
       "3             Jim Abrahams     Robert Hays   United States   3500000.0   \n",
       "4       Brian Doyle-Murray     Chevy Chase   United States   6000000.0   \n",
       "\n",
       "         gross             company  runtime  \n",
       "0   46998772.0        Warner Bros.    146.0  \n",
       "1   58853106.0   Columbia Pictures    104.0  \n",
       "2  538375067.0           Lucasfilm    124.0  \n",
       "3   83453539.0  Paramount Pictures     88.0  \n",
       "4   39846344.0      Orion Pictures     98.0  "
      ]
     },
     "execution_count": 135,
     "metadata": {},
     "output_type": "execute_result"
    }
   ],
   "source": [
    "df.head()"
   ]
  },
  {
   "cell_type": "code",
   "execution_count": 136,
   "id": "5e6ccce4",
   "metadata": {},
   "outputs": [
    {
     "name": "stdout",
     "output_type": "stream",
     "text": [
      "<class 'pandas.core.frame.DataFrame'>\n",
      "RangeIndex: 7668 entries, 0 to 7667\n",
      "Data columns (total 15 columns):\n",
      " #   Column    Non-Null Count  Dtype  \n",
      "---  ------    --------------  -----  \n",
      " 0   name      7668 non-null   object \n",
      " 1   rating    7591 non-null   object \n",
      " 2   genre     7668 non-null   object \n",
      " 3   year      7668 non-null   int64  \n",
      " 4   released  7666 non-null   object \n",
      " 5   score     7665 non-null   float64\n",
      " 6   votes     7665 non-null   float64\n",
      " 7   director  7668 non-null   object \n",
      " 8   writer    7665 non-null   object \n",
      " 9   star      7667 non-null   object \n",
      " 10  country   7665 non-null   object \n",
      " 11  budget    5497 non-null   float64\n",
      " 12  gross     7479 non-null   float64\n",
      " 13  company   7651 non-null   object \n",
      " 14  runtime   7664 non-null   float64\n",
      "dtypes: float64(5), int64(1), object(9)\n",
      "memory usage: 898.7+ KB\n"
     ]
    }
   ],
   "source": [
    "df.info()"
   ]
  },
  {
   "cell_type": "markdown",
   "id": "d2252c5b",
   "metadata": {},
   "source": [
    "## Data cleaning"
   ]
  },
  {
   "cell_type": "code",
   "execution_count": 137,
   "id": "7f3cb388",
   "metadata": {},
   "outputs": [
    {
     "name": "stdout",
     "output_type": "stream",
     "text": [
      "name\n",
      "False    7668\n",
      "Name: count, dtype: int64\n",
      "rating\n",
      "False    7591\n",
      "True       77\n",
      "Name: count, dtype: int64\n",
      "genre\n",
      "False    7668\n",
      "Name: count, dtype: int64\n",
      "year\n",
      "False    7668\n",
      "Name: count, dtype: int64\n",
      "released\n",
      "False    7666\n",
      "True        2\n",
      "Name: count, dtype: int64\n",
      "score\n",
      "False    7665\n",
      "True        3\n",
      "Name: count, dtype: int64\n",
      "votes\n",
      "False    7665\n",
      "True        3\n",
      "Name: count, dtype: int64\n",
      "director\n",
      "False    7668\n",
      "Name: count, dtype: int64\n",
      "writer\n",
      "False    7665\n",
      "True        3\n",
      "Name: count, dtype: int64\n",
      "star\n",
      "False    7667\n",
      "True        1\n",
      "Name: count, dtype: int64\n",
      "country\n",
      "False    7665\n",
      "True        3\n",
      "Name: count, dtype: int64\n",
      "budget\n",
      "False    5497\n",
      "True     2171\n",
      "Name: count, dtype: int64\n",
      "gross\n",
      "False    7479\n",
      "True      189\n",
      "Name: count, dtype: int64\n",
      "company\n",
      "False    7651\n",
      "True       17\n",
      "Name: count, dtype: int64\n",
      "runtime\n",
      "False    7664\n",
      "True        4\n",
      "Name: count, dtype: int64\n"
     ]
    }
   ],
   "source": [
    "# Checking for missing data\n",
    "\n",
    "for col in df.columns:\n",
    "    print(df[col].isna().value_counts())"
   ]
  },
  {
   "cell_type": "code",
   "execution_count": 138,
   "id": "a5fcd501",
   "metadata": {},
   "outputs": [
    {
     "name": "stdout",
     "output_type": "stream",
     "text": [
      "name: 0.0%\n",
      "rating: 0.010041731872717789%\n",
      "genre: 0.0%\n",
      "year: 0.0%\n",
      "released: 0.0002608242044861763%\n",
      "score: 0.0003912363067292645%\n",
      "votes: 0.0003912363067292645%\n",
      "director: 0.0%\n",
      "writer: 0.0003912363067292645%\n",
      "star: 0.00013041210224308815%\n",
      "country: 0.0003912363067292645%\n",
      "budget: 0.2831246739697444%\n",
      "gross: 0.02464788732394366%\n",
      "company: 0.002217005738132499%\n",
      "runtime: 0.0005216484089723526%\n"
     ]
    }
   ],
   "source": [
    "for col in df.columns:\n",
    "    pct_missing = np.mean(df[col].isnull(),)\n",
    "    print(f'{col}: {pct_missing}%')"
   ]
  },
  {
   "cell_type": "markdown",
   "id": "62f8f5f0",
   "metadata": {},
   "source": [
    "**Handling missing values for those columns missing < 5% of data**"
   ]
  },
  {
   "cell_type": "markdown",
   "id": "800420b0",
   "metadata": {},
   "source": [
    "Introducing 'Unknown' value for rating"
   ]
  },
  {
   "cell_type": "code",
   "execution_count": 139,
   "id": "871c5886",
   "metadata": {},
   "outputs": [],
   "source": [
    "df.loc[df['rating'].isna() == True, 'rating'] = 'Unknown'"
   ]
  },
  {
   "cell_type": "code",
   "execution_count": 140,
   "id": "36da2ca3",
   "metadata": {},
   "outputs": [
    {
     "data": {
      "text/plain": [
       "rating\n",
       "False    7668\n",
       "Name: count, dtype: int64"
      ]
     },
     "execution_count": 140,
     "metadata": {},
     "output_type": "execute_result"
    }
   ],
   "source": [
    "df['rating'].isna().value_counts()"
   ]
  },
  {
   "cell_type": "markdown",
   "id": "73afe199",
   "metadata": {},
   "source": [
    "Manually asigning release data"
   ]
  },
  {
   "cell_type": "code",
   "execution_count": 141,
   "id": "045e7979",
   "metadata": {},
   "outputs": [
    {
     "data": {
      "text/html": [
       "<div>\n",
       "<style scoped>\n",
       "    .dataframe tbody tr th:only-of-type {\n",
       "        vertical-align: middle;\n",
       "    }\n",
       "\n",
       "    .dataframe tbody tr th {\n",
       "        vertical-align: top;\n",
       "    }\n",
       "\n",
       "    .dataframe thead th {\n",
       "        text-align: right;\n",
       "    }\n",
       "</style>\n",
       "<table border=\"1\" class=\"dataframe\">\n",
       "  <thead>\n",
       "    <tr style=\"text-align: right;\">\n",
       "      <th></th>\n",
       "      <th>name</th>\n",
       "      <th>rating</th>\n",
       "      <th>genre</th>\n",
       "      <th>year</th>\n",
       "      <th>released</th>\n",
       "      <th>score</th>\n",
       "      <th>votes</th>\n",
       "      <th>director</th>\n",
       "      <th>writer</th>\n",
       "      <th>star</th>\n",
       "      <th>country</th>\n",
       "      <th>budget</th>\n",
       "      <th>gross</th>\n",
       "      <th>company</th>\n",
       "      <th>runtime</th>\n",
       "    </tr>\n",
       "  </thead>\n",
       "  <tbody>\n",
       "    <tr>\n",
       "      <th>5728</th>\n",
       "      <td>Saw: The Final Chapter</td>\n",
       "      <td>R</td>\n",
       "      <td>Crime</td>\n",
       "      <td>2010</td>\n",
       "      <td>NaN</td>\n",
       "      <td>5.6</td>\n",
       "      <td>93000.0</td>\n",
       "      <td>Kevin Greutert</td>\n",
       "      <td>Patrick Melton</td>\n",
       "      <td>Tobin Bell</td>\n",
       "      <td>NaN</td>\n",
       "      <td>NaN</td>\n",
       "      <td>NaN</td>\n",
       "      <td>NaN</td>\n",
       "      <td>NaN</td>\n",
       "    </tr>\n",
       "    <tr>\n",
       "      <th>5730</th>\n",
       "      <td>The Wolfman</td>\n",
       "      <td>R</td>\n",
       "      <td>Drama</td>\n",
       "      <td>2010</td>\n",
       "      <td>NaN</td>\n",
       "      <td>5.8</td>\n",
       "      <td>104000.0</td>\n",
       "      <td>Joe Johnston</td>\n",
       "      <td>Andrew Kevin Walker</td>\n",
       "      <td>Benicio Del Toro</td>\n",
       "      <td>NaN</td>\n",
       "      <td>NaN</td>\n",
       "      <td>NaN</td>\n",
       "      <td>NaN</td>\n",
       "      <td>NaN</td>\n",
       "    </tr>\n",
       "  </tbody>\n",
       "</table>\n",
       "</div>"
      ],
      "text/plain": [
       "                        name rating  genre  year released  score     votes  \\\n",
       "5728  Saw: The Final Chapter      R  Crime  2010      NaN    5.6   93000.0   \n",
       "5730             The Wolfman      R  Drama  2010      NaN    5.8  104000.0   \n",
       "\n",
       "            director               writer              star country  budget  \\\n",
       "5728  Kevin Greutert       Patrick Melton        Tobin Bell     NaN     NaN   \n",
       "5730    Joe Johnston  Andrew Kevin Walker  Benicio Del Toro     NaN     NaN   \n",
       "\n",
       "      gross company  runtime  \n",
       "5728    NaN     NaN      NaN  \n",
       "5730    NaN     NaN      NaN  "
      ]
     },
     "execution_count": 141,
     "metadata": {},
     "output_type": "execute_result"
    }
   ],
   "source": [
    "df[df['released'].isna() == True]"
   ]
  },
  {
   "cell_type": "code",
   "execution_count": 142,
   "id": "57e569e7",
   "metadata": {},
   "outputs": [],
   "source": [
    "df.loc[df['name'] == 'Saw: The Final Chapter', 'released'] = '29 October, 2010 (United States)'"
   ]
  },
  {
   "cell_type": "code",
   "execution_count": 143,
   "id": "9e1eed9e",
   "metadata": {},
   "outputs": [],
   "source": [
    "df.loc[df['name'] == 'The Wolfman', 'released'] = 'February 12, 2010 (United States)'"
   ]
  },
  {
   "cell_type": "code",
   "execution_count": 144,
   "id": "8bb71d89",
   "metadata": {},
   "outputs": [
    {
     "data": {
      "text/html": [
       "<div>\n",
       "<style scoped>\n",
       "    .dataframe tbody tr th:only-of-type {\n",
       "        vertical-align: middle;\n",
       "    }\n",
       "\n",
       "    .dataframe tbody tr th {\n",
       "        vertical-align: top;\n",
       "    }\n",
       "\n",
       "    .dataframe thead th {\n",
       "        text-align: right;\n",
       "    }\n",
       "</style>\n",
       "<table border=\"1\" class=\"dataframe\">\n",
       "  <thead>\n",
       "    <tr style=\"text-align: right;\">\n",
       "      <th></th>\n",
       "      <th>name</th>\n",
       "      <th>rating</th>\n",
       "      <th>genre</th>\n",
       "      <th>year</th>\n",
       "      <th>released</th>\n",
       "      <th>score</th>\n",
       "      <th>votes</th>\n",
       "      <th>director</th>\n",
       "      <th>writer</th>\n",
       "      <th>star</th>\n",
       "      <th>country</th>\n",
       "      <th>budget</th>\n",
       "      <th>gross</th>\n",
       "      <th>company</th>\n",
       "      <th>runtime</th>\n",
       "    </tr>\n",
       "  </thead>\n",
       "  <tbody>\n",
       "  </tbody>\n",
       "</table>\n",
       "</div>"
      ],
      "text/plain": [
       "Empty DataFrame\n",
       "Columns: [name, rating, genre, year, released, score, votes, director, writer, star, country, budget, gross, company, runtime]\n",
       "Index: []"
      ]
     },
     "execution_count": 144,
     "metadata": {},
     "output_type": "execute_result"
    }
   ],
   "source": [
    "df[df['released'].isna() == True]"
   ]
  },
  {
   "cell_type": "markdown",
   "id": "14e96b04",
   "metadata": {},
   "source": [
    "Manually inputing missing scores via IMDb or imputing via avereage score for that budget"
   ]
  },
  {
   "cell_type": "code",
   "execution_count": 145,
   "id": "91883fd0",
   "metadata": {
    "scrolled": false
   },
   "outputs": [
    {
     "data": {
      "text/html": [
       "<div>\n",
       "<style scoped>\n",
       "    .dataframe tbody tr th:only-of-type {\n",
       "        vertical-align: middle;\n",
       "    }\n",
       "\n",
       "    .dataframe tbody tr th {\n",
       "        vertical-align: top;\n",
       "    }\n",
       "\n",
       "    .dataframe thead th {\n",
       "        text-align: right;\n",
       "    }\n",
       "</style>\n",
       "<table border=\"1\" class=\"dataframe\">\n",
       "  <thead>\n",
       "    <tr style=\"text-align: right;\">\n",
       "      <th></th>\n",
       "      <th>name</th>\n",
       "      <th>rating</th>\n",
       "      <th>genre</th>\n",
       "      <th>year</th>\n",
       "      <th>released</th>\n",
       "      <th>score</th>\n",
       "      <th>votes</th>\n",
       "      <th>director</th>\n",
       "      <th>writer</th>\n",
       "      <th>star</th>\n",
       "      <th>country</th>\n",
       "      <th>budget</th>\n",
       "      <th>gross</th>\n",
       "      <th>company</th>\n",
       "      <th>runtime</th>\n",
       "    </tr>\n",
       "  </thead>\n",
       "  <tbody>\n",
       "    <tr>\n",
       "      <th>7661</th>\n",
       "      <td>Love by Drowning</td>\n",
       "      <td>R</td>\n",
       "      <td>Drama</td>\n",
       "      <td>2020</td>\n",
       "      <td>November 6, 2020 (United States)</td>\n",
       "      <td>NaN</td>\n",
       "      <td>NaN</td>\n",
       "      <td>Justin Kreinbrink</td>\n",
       "      <td>C.E. Poverman</td>\n",
       "      <td>Nicky Whelan</td>\n",
       "      <td>United States</td>\n",
       "      <td>1000000.0</td>\n",
       "      <td>NaN</td>\n",
       "      <td>Dow Jazz Films</td>\n",
       "      <td>121.0</td>\n",
       "    </tr>\n",
       "    <tr>\n",
       "      <th>7662</th>\n",
       "      <td>The Robinsons</td>\n",
       "      <td>Unknown</td>\n",
       "      <td>Action</td>\n",
       "      <td>2020</td>\n",
       "      <td>November 10, 2020 (United States)</td>\n",
       "      <td>NaN</td>\n",
       "      <td>NaN</td>\n",
       "      <td>Directors</td>\n",
       "      <td>Aleks Alifirenko Jr.</td>\n",
       "      <td>Billy Hartmann</td>\n",
       "      <td>United States</td>\n",
       "      <td>10000.0</td>\n",
       "      <td>NaN</td>\n",
       "      <td>NaN</td>\n",
       "      <td>90.0</td>\n",
       "    </tr>\n",
       "    <tr>\n",
       "      <th>7666</th>\n",
       "      <td>It's Just Us</td>\n",
       "      <td>Unknown</td>\n",
       "      <td>Drama</td>\n",
       "      <td>2020</td>\n",
       "      <td>October 1, 2020 (United States)</td>\n",
       "      <td>NaN</td>\n",
       "      <td>NaN</td>\n",
       "      <td>James Randall</td>\n",
       "      <td>James Randall</td>\n",
       "      <td>Christina Roz</td>\n",
       "      <td>United States</td>\n",
       "      <td>15000.0</td>\n",
       "      <td>NaN</td>\n",
       "      <td>NaN</td>\n",
       "      <td>120.0</td>\n",
       "    </tr>\n",
       "  </tbody>\n",
       "</table>\n",
       "</div>"
      ],
      "text/plain": [
       "                  name   rating   genre  year  \\\n",
       "7661  Love by Drowning        R   Drama  2020   \n",
       "7662     The Robinsons  Unknown  Action  2020   \n",
       "7666      It's Just Us  Unknown   Drama  2020   \n",
       "\n",
       "                               released  score  votes           director  \\\n",
       "7661   November 6, 2020 (United States)    NaN    NaN  Justin Kreinbrink   \n",
       "7662  November 10, 2020 (United States)    NaN    NaN          Directors   \n",
       "7666    October 1, 2020 (United States)    NaN    NaN      James Randall   \n",
       "\n",
       "                    writer            star        country     budget  gross  \\\n",
       "7661         C.E. Poverman    Nicky Whelan  United States  1000000.0    NaN   \n",
       "7662  Aleks Alifirenko Jr.  Billy Hartmann  United States    10000.0    NaN   \n",
       "7666         James Randall   Christina Roz  United States    15000.0    NaN   \n",
       "\n",
       "             company  runtime  \n",
       "7661  Dow Jazz Films    121.0  \n",
       "7662             NaN     90.0  \n",
       "7666             NaN    120.0  "
      ]
     },
     "execution_count": 145,
     "metadata": {},
     "output_type": "execute_result"
    }
   ],
   "source": [
    "df[df['score'].isna() == True]"
   ]
  },
  {
   "cell_type": "code",
   "execution_count": 146,
   "id": "8c745ed1",
   "metadata": {},
   "outputs": [],
   "source": [
    "df.loc[df['name'] == 'Love by Drowning', 'score'] = 7.2\n",
    "df.loc[df['name'] == \"It's Just Us\", 'score'] = 8.4"
   ]
  },
  {
   "cell_type": "code",
   "execution_count": 147,
   "id": "409fb875",
   "metadata": {},
   "outputs": [
    {
     "name": "stdout",
     "output_type": "stream",
     "text": [
      "5\n",
      "5.0\n"
     ]
    }
   ],
   "source": [
    "# IMDb data not available for The Robinsons so asigning score based on movies with similar budgets\n",
    "print(df['score'][(df['budget'] > 5000.0) & (df['budget'] < 15000.0)].count())\n",
    "print(np.mean(df['score'][(df['budget'] > 5000.0) & (df['budget'] < 15000.0)].count()))"
   ]
  },
  {
   "cell_type": "code",
   "execution_count": 148,
   "id": "c1a97c9a",
   "metadata": {},
   "outputs": [],
   "source": [
    "df.loc[df['name'] == \"The Robinsons\", 'score'] = 5.0"
   ]
  },
  {
   "cell_type": "code",
   "execution_count": 149,
   "id": "55ade5e7",
   "metadata": {},
   "outputs": [
    {
     "data": {
      "text/html": [
       "<div>\n",
       "<style scoped>\n",
       "    .dataframe tbody tr th:only-of-type {\n",
       "        vertical-align: middle;\n",
       "    }\n",
       "\n",
       "    .dataframe tbody tr th {\n",
       "        vertical-align: top;\n",
       "    }\n",
       "\n",
       "    .dataframe thead th {\n",
       "        text-align: right;\n",
       "    }\n",
       "</style>\n",
       "<table border=\"1\" class=\"dataframe\">\n",
       "  <thead>\n",
       "    <tr style=\"text-align: right;\">\n",
       "      <th></th>\n",
       "      <th>name</th>\n",
       "      <th>rating</th>\n",
       "      <th>genre</th>\n",
       "      <th>year</th>\n",
       "      <th>released</th>\n",
       "      <th>score</th>\n",
       "      <th>votes</th>\n",
       "      <th>director</th>\n",
       "      <th>writer</th>\n",
       "      <th>star</th>\n",
       "      <th>country</th>\n",
       "      <th>budget</th>\n",
       "      <th>gross</th>\n",
       "      <th>company</th>\n",
       "      <th>runtime</th>\n",
       "    </tr>\n",
       "  </thead>\n",
       "  <tbody>\n",
       "  </tbody>\n",
       "</table>\n",
       "</div>"
      ],
      "text/plain": [
       "Empty DataFrame\n",
       "Columns: [name, rating, genre, year, released, score, votes, director, writer, star, country, budget, gross, company, runtime]\n",
       "Index: []"
      ]
     },
     "execution_count": 149,
     "metadata": {},
     "output_type": "execute_result"
    }
   ],
   "source": [
    "df[df['score'].isna() == True]"
   ]
  },
  {
   "cell_type": "markdown",
   "id": "6c067bcd",
   "metadata": {},
   "source": [
    "Imputing 'votes' values by budget"
   ]
  },
  {
   "cell_type": "code",
   "execution_count": 151,
   "id": "29e22ade",
   "metadata": {},
   "outputs": [
    {
     "data": {
      "text/html": [
       "<div>\n",
       "<style scoped>\n",
       "    .dataframe tbody tr th:only-of-type {\n",
       "        vertical-align: middle;\n",
       "    }\n",
       "\n",
       "    .dataframe tbody tr th {\n",
       "        vertical-align: top;\n",
       "    }\n",
       "\n",
       "    .dataframe thead th {\n",
       "        text-align: right;\n",
       "    }\n",
       "</style>\n",
       "<table border=\"1\" class=\"dataframe\">\n",
       "  <thead>\n",
       "    <tr style=\"text-align: right;\">\n",
       "      <th></th>\n",
       "      <th>name</th>\n",
       "      <th>rating</th>\n",
       "      <th>genre</th>\n",
       "      <th>year</th>\n",
       "      <th>released</th>\n",
       "      <th>score</th>\n",
       "      <th>votes</th>\n",
       "      <th>director</th>\n",
       "      <th>writer</th>\n",
       "      <th>star</th>\n",
       "      <th>country</th>\n",
       "      <th>budget</th>\n",
       "      <th>gross</th>\n",
       "      <th>company</th>\n",
       "      <th>runtime</th>\n",
       "    </tr>\n",
       "  </thead>\n",
       "  <tbody>\n",
       "    <tr>\n",
       "      <th>7661</th>\n",
       "      <td>Love by Drowning</td>\n",
       "      <td>R</td>\n",
       "      <td>Drama</td>\n",
       "      <td>2020</td>\n",
       "      <td>November 6, 2020 (United States)</td>\n",
       "      <td>7.2</td>\n",
       "      <td>NaN</td>\n",
       "      <td>Justin Kreinbrink</td>\n",
       "      <td>C.E. Poverman</td>\n",
       "      <td>Nicky Whelan</td>\n",
       "      <td>United States</td>\n",
       "      <td>1000000.0</td>\n",
       "      <td>NaN</td>\n",
       "      <td>Dow Jazz Films</td>\n",
       "      <td>121.0</td>\n",
       "    </tr>\n",
       "    <tr>\n",
       "      <th>7662</th>\n",
       "      <td>The Robinsons</td>\n",
       "      <td>Unknown</td>\n",
       "      <td>Action</td>\n",
       "      <td>2020</td>\n",
       "      <td>November 10, 2020 (United States)</td>\n",
       "      <td>5.0</td>\n",
       "      <td>NaN</td>\n",
       "      <td>Directors</td>\n",
       "      <td>Aleks Alifirenko Jr.</td>\n",
       "      <td>Billy Hartmann</td>\n",
       "      <td>United States</td>\n",
       "      <td>10000.0</td>\n",
       "      <td>NaN</td>\n",
       "      <td>NaN</td>\n",
       "      <td>90.0</td>\n",
       "    </tr>\n",
       "    <tr>\n",
       "      <th>7666</th>\n",
       "      <td>It's Just Us</td>\n",
       "      <td>Unknown</td>\n",
       "      <td>Drama</td>\n",
       "      <td>2020</td>\n",
       "      <td>October 1, 2020 (United States)</td>\n",
       "      <td>8.4</td>\n",
       "      <td>NaN</td>\n",
       "      <td>James Randall</td>\n",
       "      <td>James Randall</td>\n",
       "      <td>Christina Roz</td>\n",
       "      <td>United States</td>\n",
       "      <td>15000.0</td>\n",
       "      <td>NaN</td>\n",
       "      <td>NaN</td>\n",
       "      <td>120.0</td>\n",
       "    </tr>\n",
       "  </tbody>\n",
       "</table>\n",
       "</div>"
      ],
      "text/plain": [
       "                  name   rating   genre  year  \\\n",
       "7661  Love by Drowning        R   Drama  2020   \n",
       "7662     The Robinsons  Unknown  Action  2020   \n",
       "7666      It's Just Us  Unknown   Drama  2020   \n",
       "\n",
       "                               released  score  votes           director  \\\n",
       "7661   November 6, 2020 (United States)    7.2    NaN  Justin Kreinbrink   \n",
       "7662  November 10, 2020 (United States)    5.0    NaN          Directors   \n",
       "7666    October 1, 2020 (United States)    8.4    NaN      James Randall   \n",
       "\n",
       "                    writer            star        country     budget  gross  \\\n",
       "7661         C.E. Poverman    Nicky Whelan  United States  1000000.0    NaN   \n",
       "7662  Aleks Alifirenko Jr.  Billy Hartmann  United States    10000.0    NaN   \n",
       "7666         James Randall   Christina Roz  United States    15000.0    NaN   \n",
       "\n",
       "             company  runtime  \n",
       "7661  Dow Jazz Films    121.0  \n",
       "7662             NaN     90.0  \n",
       "7666             NaN    120.0  "
      ]
     },
     "execution_count": 151,
     "metadata": {},
     "output_type": "execute_result"
    }
   ],
   "source": [
    "df[df['votes'].isna() == True]"
   ]
  },
  {
   "cell_type": "code",
   "execution_count": 154,
   "id": "2caae79d",
   "metadata": {},
   "outputs": [],
   "source": [
    "df.loc[df['name'] == 'Love by Drowning', 'votes'] = np.mean(df['votes'][df['budget'] < 1000000.0])\n",
    "df.loc[df['name'] == \"The Robinsons\", 'votes'] = np.mean(df['votes'][df['budget'] < 15000])\n",
    "df.loc[df['name'] == \"It's Just Us\", 'votes'] = np.mean(df['votes'][df['budget'] < 15000])"
   ]
  },
  {
   "cell_type": "code",
   "execution_count": 155,
   "id": "b7d28099",
   "metadata": {},
   "outputs": [
    {
     "data": {
      "text/html": [
       "<div>\n",
       "<style scoped>\n",
       "    .dataframe tbody tr th:only-of-type {\n",
       "        vertical-align: middle;\n",
       "    }\n",
       "\n",
       "    .dataframe tbody tr th {\n",
       "        vertical-align: top;\n",
       "    }\n",
       "\n",
       "    .dataframe thead th {\n",
       "        text-align: right;\n",
       "    }\n",
       "</style>\n",
       "<table border=\"1\" class=\"dataframe\">\n",
       "  <thead>\n",
       "    <tr style=\"text-align: right;\">\n",
       "      <th></th>\n",
       "      <th>name</th>\n",
       "      <th>rating</th>\n",
       "      <th>genre</th>\n",
       "      <th>year</th>\n",
       "      <th>released</th>\n",
       "      <th>score</th>\n",
       "      <th>votes</th>\n",
       "      <th>director</th>\n",
       "      <th>writer</th>\n",
       "      <th>star</th>\n",
       "      <th>country</th>\n",
       "      <th>budget</th>\n",
       "      <th>gross</th>\n",
       "      <th>company</th>\n",
       "      <th>runtime</th>\n",
       "    </tr>\n",
       "  </thead>\n",
       "  <tbody>\n",
       "  </tbody>\n",
       "</table>\n",
       "</div>"
      ],
      "text/plain": [
       "Empty DataFrame\n",
       "Columns: [name, rating, genre, year, released, score, votes, director, writer, star, country, budget, gross, company, runtime]\n",
       "Index: []"
      ]
     },
     "execution_count": 155,
     "metadata": {},
     "output_type": "execute_result"
    }
   ],
   "source": [
    "df[df['votes'].isna() == True]"
   ]
  },
  {
   "cell_type": "markdown",
   "id": "e45cc98b",
   "metadata": {},
   "source": [
    "Introducing 'Unknown' values for each of the remaining string type columns"
   ]
  },
  {
   "cell_type": "code",
   "execution_count": 157,
   "id": "1167e9d3",
   "metadata": {},
   "outputs": [],
   "source": [
    "string_cols = ['writer', 'star', 'country', 'company']"
   ]
  },
  {
   "cell_type": "code",
   "execution_count": 158,
   "id": "7969a977",
   "metadata": {},
   "outputs": [],
   "source": [
    "for col in string_cols:\n",
    "    df.loc[df[col].isna() == True, col] = 'Unknown'"
   ]
  },
  {
   "cell_type": "markdown",
   "id": "e458d5d3",
   "metadata": {},
   "source": [
    "Imputing missing runtimes based on the average"
   ]
  },
  {
   "cell_type": "code",
   "execution_count": 163,
   "id": "02f5b277",
   "metadata": {},
   "outputs": [
    {
     "data": {
      "text/html": [
       "<div>\n",
       "<style scoped>\n",
       "    .dataframe tbody tr th:only-of-type {\n",
       "        vertical-align: middle;\n",
       "    }\n",
       "\n",
       "    .dataframe tbody tr th {\n",
       "        vertical-align: top;\n",
       "    }\n",
       "\n",
       "    .dataframe thead th {\n",
       "        text-align: right;\n",
       "    }\n",
       "</style>\n",
       "<table border=\"1\" class=\"dataframe\">\n",
       "  <thead>\n",
       "    <tr style=\"text-align: right;\">\n",
       "      <th></th>\n",
       "      <th>name</th>\n",
       "      <th>rating</th>\n",
       "      <th>genre</th>\n",
       "      <th>year</th>\n",
       "      <th>released</th>\n",
       "      <th>score</th>\n",
       "      <th>votes</th>\n",
       "      <th>director</th>\n",
       "      <th>writer</th>\n",
       "      <th>star</th>\n",
       "      <th>country</th>\n",
       "      <th>budget</th>\n",
       "      <th>gross</th>\n",
       "      <th>company</th>\n",
       "      <th>runtime</th>\n",
       "    </tr>\n",
       "  </thead>\n",
       "  <tbody>\n",
       "    <tr>\n",
       "      <th>5728</th>\n",
       "      <td>Saw: The Final Chapter</td>\n",
       "      <td>R</td>\n",
       "      <td>Crime</td>\n",
       "      <td>2010</td>\n",
       "      <td>29 October, 2010 (United States)</td>\n",
       "      <td>5.6</td>\n",
       "      <td>93000.0</td>\n",
       "      <td>Kevin Greutert</td>\n",
       "      <td>Patrick Melton</td>\n",
       "      <td>Tobin Bell</td>\n",
       "      <td>Unknown</td>\n",
       "      <td>NaN</td>\n",
       "      <td>NaN</td>\n",
       "      <td>Unknown</td>\n",
       "      <td>NaN</td>\n",
       "    </tr>\n",
       "    <tr>\n",
       "      <th>5730</th>\n",
       "      <td>The Wolfman</td>\n",
       "      <td>R</td>\n",
       "      <td>Drama</td>\n",
       "      <td>2010</td>\n",
       "      <td>February 12, 2010 (United States)</td>\n",
       "      <td>5.8</td>\n",
       "      <td>104000.0</td>\n",
       "      <td>Joe Johnston</td>\n",
       "      <td>Andrew Kevin Walker</td>\n",
       "      <td>Benicio Del Toro</td>\n",
       "      <td>Unknown</td>\n",
       "      <td>NaN</td>\n",
       "      <td>NaN</td>\n",
       "      <td>Unknown</td>\n",
       "      <td>NaN</td>\n",
       "    </tr>\n",
       "    <tr>\n",
       "      <th>6195</th>\n",
       "      <td>One for the Money</td>\n",
       "      <td>PG-13</td>\n",
       "      <td>Action</td>\n",
       "      <td>2012</td>\n",
       "      <td>January 27, 2012 (United States)</td>\n",
       "      <td>5.3</td>\n",
       "      <td>41000.0</td>\n",
       "      <td>Julie Anne Robinson</td>\n",
       "      <td>Stacy Sherman</td>\n",
       "      <td>Katherine Heigl</td>\n",
       "      <td>United States</td>\n",
       "      <td>40000000.0</td>\n",
       "      <td>38084162.0</td>\n",
       "      <td>Lakeshore Entertainment</td>\n",
       "      <td>NaN</td>\n",
       "    </tr>\n",
       "    <tr>\n",
       "      <th>7665</th>\n",
       "      <td>Saving Mbango</td>\n",
       "      <td>Unknown</td>\n",
       "      <td>Drama</td>\n",
       "      <td>2020</td>\n",
       "      <td>April 27, 2020 (Cameroon)</td>\n",
       "      <td>5.7</td>\n",
       "      <td>29.0</td>\n",
       "      <td>Nkanya Nkwai</td>\n",
       "      <td>Lynno Lovert</td>\n",
       "      <td>Onyama Laura</td>\n",
       "      <td>United States</td>\n",
       "      <td>58750.0</td>\n",
       "      <td>NaN</td>\n",
       "      <td>Embi Productions</td>\n",
       "      <td>NaN</td>\n",
       "    </tr>\n",
       "  </tbody>\n",
       "</table>\n",
       "</div>"
      ],
      "text/plain": [
       "                        name   rating   genre  year  \\\n",
       "5728  Saw: The Final Chapter        R   Crime  2010   \n",
       "5730             The Wolfman        R   Drama  2010   \n",
       "6195       One for the Money    PG-13  Action  2012   \n",
       "7665           Saving Mbango  Unknown   Drama  2020   \n",
       "\n",
       "                               released  score     votes             director  \\\n",
       "5728   29 October, 2010 (United States)    5.6   93000.0       Kevin Greutert   \n",
       "5730  February 12, 2010 (United States)    5.8  104000.0         Joe Johnston   \n",
       "6195   January 27, 2012 (United States)    5.3   41000.0  Julie Anne Robinson   \n",
       "7665          April 27, 2020 (Cameroon)    5.7      29.0         Nkanya Nkwai   \n",
       "\n",
       "                   writer              star        country      budget  \\\n",
       "5728       Patrick Melton        Tobin Bell        Unknown         NaN   \n",
       "5730  Andrew Kevin Walker  Benicio Del Toro        Unknown         NaN   \n",
       "6195        Stacy Sherman   Katherine Heigl  United States  40000000.0   \n",
       "7665         Lynno Lovert      Onyama Laura  United States     58750.0   \n",
       "\n",
       "           gross                  company  runtime  \n",
       "5728         NaN                  Unknown      NaN  \n",
       "5730         NaN                  Unknown      NaN  \n",
       "6195  38084162.0  Lakeshore Entertainment      NaN  \n",
       "7665         NaN         Embi Productions      NaN  "
      ]
     },
     "execution_count": 163,
     "metadata": {},
     "output_type": "execute_result"
    }
   ],
   "source": [
    "df[df['runtime'].isna() == True]"
   ]
  },
  {
   "cell_type": "code",
   "execution_count": 161,
   "id": "672ad3a0",
   "metadata": {},
   "outputs": [
    {
     "data": {
      "text/plain": [
       "107.2616127348643"
      ]
     },
     "execution_count": 161,
     "metadata": {},
     "output_type": "execute_result"
    }
   ],
   "source": [
    "np.mean(df['runtime'])"
   ]
  },
  {
   "cell_type": "code",
   "execution_count": 164,
   "id": "ebec6b87",
   "metadata": {},
   "outputs": [],
   "source": [
    "df.loc[df['runtime'].isna() == True, 'runtime'] = np.mean(df['runtime'])"
   ]
  },
  {
   "cell_type": "code",
   "execution_count": 165,
   "id": "670a58a9",
   "metadata": {},
   "outputs": [
    {
     "data": {
      "text/html": [
       "<div>\n",
       "<style scoped>\n",
       "    .dataframe tbody tr th:only-of-type {\n",
       "        vertical-align: middle;\n",
       "    }\n",
       "\n",
       "    .dataframe tbody tr th {\n",
       "        vertical-align: top;\n",
       "    }\n",
       "\n",
       "    .dataframe thead th {\n",
       "        text-align: right;\n",
       "    }\n",
       "</style>\n",
       "<table border=\"1\" class=\"dataframe\">\n",
       "  <thead>\n",
       "    <tr style=\"text-align: right;\">\n",
       "      <th></th>\n",
       "      <th>name</th>\n",
       "      <th>rating</th>\n",
       "      <th>genre</th>\n",
       "      <th>year</th>\n",
       "      <th>released</th>\n",
       "      <th>score</th>\n",
       "      <th>votes</th>\n",
       "      <th>director</th>\n",
       "      <th>writer</th>\n",
       "      <th>star</th>\n",
       "      <th>country</th>\n",
       "      <th>budget</th>\n",
       "      <th>gross</th>\n",
       "      <th>company</th>\n",
       "      <th>runtime</th>\n",
       "    </tr>\n",
       "  </thead>\n",
       "  <tbody>\n",
       "  </tbody>\n",
       "</table>\n",
       "</div>"
      ],
      "text/plain": [
       "Empty DataFrame\n",
       "Columns: [name, rating, genre, year, released, score, votes, director, writer, star, country, budget, gross, company, runtime]\n",
       "Index: []"
      ]
     },
     "execution_count": 165,
     "metadata": {},
     "output_type": "execute_result"
    }
   ],
   "source": [
    "df[df['runtime'].isna() == True]"
   ]
  },
  {
   "cell_type": "markdown",
   "id": "ef95f759",
   "metadata": {},
   "source": [
    "gross and budget missing data will be handled later after assesing correlations. It may be possible to create a model to predict either/both"
   ]
  },
  {
   "cell_type": "code",
   "execution_count": 167,
   "id": "0982e912",
   "metadata": {},
   "outputs": [
    {
     "name": "stdout",
     "output_type": "stream",
     "text": [
      "<class 'pandas.core.frame.DataFrame'>\n",
      "RangeIndex: 7668 entries, 0 to 7667\n",
      "Data columns (total 15 columns):\n",
      " #   Column    Non-Null Count  Dtype  \n",
      "---  ------    --------------  -----  \n",
      " 0   name      7668 non-null   object \n",
      " 1   rating    7668 non-null   object \n",
      " 2   genre     7668 non-null   object \n",
      " 3   year      7668 non-null   int64  \n",
      " 4   released  7668 non-null   object \n",
      " 5   score     7668 non-null   float64\n",
      " 6   votes     7668 non-null   float64\n",
      " 7   director  7668 non-null   object \n",
      " 8   writer    7668 non-null   object \n",
      " 9   star      7668 non-null   object \n",
      " 10  country   7668 non-null   object \n",
      " 11  budget    5497 non-null   float64\n",
      " 12  gross     7479 non-null   float64\n",
      " 13  company   7668 non-null   object \n",
      " 14  runtime   7668 non-null   float64\n",
      "dtypes: float64(5), int64(1), object(9)\n",
      "memory usage: 898.7+ KB\n"
     ]
    }
   ],
   "source": []
  },
  {
   "cell_type": "code",
   "execution_count": null,
   "id": "a8e6e083",
   "metadata": {},
   "outputs": [],
   "source": []
  }
 ],
 "metadata": {
  "kernelspec": {
   "display_name": "Python 3 (ipykernel)",
   "language": "python",
   "name": "python3"
  },
  "language_info": {
   "codemirror_mode": {
    "name": "ipython",
    "version": 3
   },
   "file_extension": ".py",
   "mimetype": "text/x-python",
   "name": "python",
   "nbconvert_exporter": "python",
   "pygments_lexer": "ipython3",
   "version": "3.11.4"
  }
 },
 "nbformat": 4,
 "nbformat_minor": 5
}
